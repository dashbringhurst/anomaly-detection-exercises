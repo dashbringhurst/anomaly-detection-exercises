{
 "cells": [
  {
   "cell_type": "markdown",
   "id": "14290729",
   "metadata": {},
   "source": [
    "continuous_probabilistic_methods.py or continuous_probabilistic_methods.ipynb \n",
    "\n",
    "1. Define a function named get_lower_and_upper_bounds that has two arguments. The first argument is a pandas Series. The second argument is the multiplier, which should have a default argument of 1.5.\n",
    "\n",
    "\n",
    "Using lemonade.csv dataset and focusing on continuous variables:\n",
    "\n",
    "\n",
    "Use the IQR Range Rule and the upper and lower bounds to identify the lower outliers of each column of lemonade.csv, using the multiplier of 1.5. Do these lower outliers make sense? Which outliers should be kept?\n",
    "\n",
    "\n",
    "Use the IQR Range Rule and the upper and upper bounds to identify the upper outliers of each column of lemonade.csv, using the multiplier of 1.5. Do these upper outliers make sense? Which outliers should be kept?\n",
    "\n",
    "\n",
    "Using the multiplier of 3, IQR Range Rule, and the lower bounds, identify the outliers below the lower bound in each colum of lemonade.csv. Do these lower outliers make sense? Which outliers should be kept?\n",
    "\n",
    "\n",
    "Using the multiplier of 3, IQR Range Rule, and the upper bounds, identify the outliers above the upper_bound in each colum of lemonade.csv. Do these upper outliers make sense? Which outliers should be kept?\n",
    "\n",
    "\n",
    "Identify if any columns in lemonade.csv are normally distributed. For normally distributed columns:\n",
    "\n",
    "\n",
    "Use a 2 sigma decision rule to isolate the outliers.\n",
    "\n",
    "\n",
    "Do these make sense?\n",
    "\n",
    "\n",
    "Should certain outliers be kept or removed?\n",
    "\n",
    "\n",
    "Now use a 3 sigma decision rule to isolate the outliers in the normally distributed columns from lemonade.csv\n",
    "\n",
    "\n"
   ]
  },
  {
   "cell_type": "code",
   "execution_count": 2,
   "id": "ddfc1ce6",
   "metadata": {},
   "outputs": [],
   "source": [
    "import pandas as pd\n",
    "import numpy as np\n",
    "import matplotlib.pyplot as plt\n",
    "import seaborn as sns\n",
    "from scipy import stats\n"
   ]
  },
  {
   "cell_type": "code",
   "execution_count": 13,
   "id": "0a600cd9",
   "metadata": {},
   "outputs": [],
   "source": [
    "def get_lower_and_upper_bounds(series, multiplier):\n",
    "    q1 = series.quantile(0.25)\n",
    "    q3 = series.quantile(0.75)\n",
    "    iqr = q3 - q1\n",
    "    lower_fence = q1 - (multiplier * iqr)\n",
    "    upper_fence = q3 + (multiplier * iqr)\n",
    "    return q1, q3, lower_fence, upper_fence "
   ]
  },
  {
   "cell_type": "code",
   "execution_count": 3,
   "id": "227612eb",
   "metadata": {},
   "outputs": [],
   "source": [
    "url = \"https://gist.githubusercontent.com/ryanorsinger/19bc7eccd6279661bd13307026628ace/raw/e4b5d6787015a4782f96cad6d1d62a8bdbac54c7/lemonade.csv\""
   ]
  },
  {
   "cell_type": "code",
   "execution_count": 4,
   "id": "e28b7b0b",
   "metadata": {},
   "outputs": [],
   "source": [
    "df = pd.read_csv(url)"
   ]
  },
  {
   "cell_type": "code",
   "execution_count": 5,
   "id": "89a2817d",
   "metadata": {},
   "outputs": [
    {
     "data": {
      "text/html": [
       "<div>\n",
       "<style scoped>\n",
       "    .dataframe tbody tr th:only-of-type {\n",
       "        vertical-align: middle;\n",
       "    }\n",
       "\n",
       "    .dataframe tbody tr th {\n",
       "        vertical-align: top;\n",
       "    }\n",
       "\n",
       "    .dataframe thead th {\n",
       "        text-align: right;\n",
       "    }\n",
       "</style>\n",
       "<table border=\"1\" class=\"dataframe\">\n",
       "  <thead>\n",
       "    <tr style=\"text-align: right;\">\n",
       "      <th></th>\n",
       "      <th>Date</th>\n",
       "      <th>Day</th>\n",
       "      <th>Temperature</th>\n",
       "      <th>Rainfall</th>\n",
       "      <th>Flyers</th>\n",
       "      <th>Price</th>\n",
       "      <th>Sales</th>\n",
       "    </tr>\n",
       "  </thead>\n",
       "  <tbody>\n",
       "    <tr>\n",
       "      <th>0</th>\n",
       "      <td>1/1/17</td>\n",
       "      <td>Sunday</td>\n",
       "      <td>27.0</td>\n",
       "      <td>2.00</td>\n",
       "      <td>15</td>\n",
       "      <td>0.5</td>\n",
       "      <td>10</td>\n",
       "    </tr>\n",
       "    <tr>\n",
       "      <th>1</th>\n",
       "      <td>1/2/17</td>\n",
       "      <td>Monday</td>\n",
       "      <td>28.9</td>\n",
       "      <td>1.33</td>\n",
       "      <td>15</td>\n",
       "      <td>0.5</td>\n",
       "      <td>13</td>\n",
       "    </tr>\n",
       "    <tr>\n",
       "      <th>2</th>\n",
       "      <td>1/3/17</td>\n",
       "      <td>Tuesday</td>\n",
       "      <td>34.5</td>\n",
       "      <td>1.33</td>\n",
       "      <td>27</td>\n",
       "      <td>0.5</td>\n",
       "      <td>15</td>\n",
       "    </tr>\n",
       "    <tr>\n",
       "      <th>3</th>\n",
       "      <td>1/4/17</td>\n",
       "      <td>Wednesday</td>\n",
       "      <td>44.1</td>\n",
       "      <td>1.05</td>\n",
       "      <td>28</td>\n",
       "      <td>0.5</td>\n",
       "      <td>17</td>\n",
       "    </tr>\n",
       "    <tr>\n",
       "      <th>4</th>\n",
       "      <td>1/5/17</td>\n",
       "      <td>Thursday</td>\n",
       "      <td>42.4</td>\n",
       "      <td>1.00</td>\n",
       "      <td>33</td>\n",
       "      <td>0.5</td>\n",
       "      <td>18</td>\n",
       "    </tr>\n",
       "  </tbody>\n",
       "</table>\n",
       "</div>"
      ],
      "text/plain": [
       "     Date        Day  Temperature  Rainfall  Flyers  Price  Sales\n",
       "0  1/1/17     Sunday         27.0      2.00      15    0.5     10\n",
       "1  1/2/17     Monday         28.9      1.33      15    0.5     13\n",
       "2  1/3/17    Tuesday         34.5      1.33      27    0.5     15\n",
       "3  1/4/17  Wednesday         44.1      1.05      28    0.5     17\n",
       "4  1/5/17   Thursday         42.4      1.00      33    0.5     18"
      ]
     },
     "execution_count": 5,
     "metadata": {},
     "output_type": "execute_result"
    }
   ],
   "source": [
    "df.head()"
   ]
  },
  {
   "cell_type": "code",
   "execution_count": 6,
   "id": "c3ca2e1b",
   "metadata": {},
   "outputs": [
    {
     "name": "stdout",
     "output_type": "stream",
     "text": [
      "<class 'pandas.core.frame.DataFrame'>\n",
      "RangeIndex: 365 entries, 0 to 364\n",
      "Data columns (total 7 columns):\n",
      " #   Column       Non-Null Count  Dtype  \n",
      "---  ------       --------------  -----  \n",
      " 0   Date         365 non-null    object \n",
      " 1   Day          365 non-null    object \n",
      " 2   Temperature  365 non-null    float64\n",
      " 3   Rainfall     365 non-null    float64\n",
      " 4   Flyers       365 non-null    int64  \n",
      " 5   Price        365 non-null    float64\n",
      " 6   Sales        365 non-null    int64  \n",
      "dtypes: float64(3), int64(2), object(2)\n",
      "memory usage: 20.1+ KB\n"
     ]
    }
   ],
   "source": [
    "df.info()"
   ]
  },
  {
   "cell_type": "code",
   "execution_count": 7,
   "id": "e628504c",
   "metadata": {},
   "outputs": [
    {
     "data": {
      "text/html": [
       "<div>\n",
       "<style scoped>\n",
       "    .dataframe tbody tr th:only-of-type {\n",
       "        vertical-align: middle;\n",
       "    }\n",
       "\n",
       "    .dataframe tbody tr th {\n",
       "        vertical-align: top;\n",
       "    }\n",
       "\n",
       "    .dataframe thead th {\n",
       "        text-align: right;\n",
       "    }\n",
       "</style>\n",
       "<table border=\"1\" class=\"dataframe\">\n",
       "  <thead>\n",
       "    <tr style=\"text-align: right;\">\n",
       "      <th></th>\n",
       "      <th>Temperature</th>\n",
       "      <th>Rainfall</th>\n",
       "      <th>Flyers</th>\n",
       "      <th>Price</th>\n",
       "      <th>Sales</th>\n",
       "    </tr>\n",
       "  </thead>\n",
       "  <tbody>\n",
       "    <tr>\n",
       "      <th>count</th>\n",
       "      <td>365.000000</td>\n",
       "      <td>365.000000</td>\n",
       "      <td>365.000000</td>\n",
       "      <td>365.0</td>\n",
       "      <td>365.000000</td>\n",
       "    </tr>\n",
       "    <tr>\n",
       "      <th>mean</th>\n",
       "      <td>61.224658</td>\n",
       "      <td>0.825973</td>\n",
       "      <td>40.104110</td>\n",
       "      <td>0.5</td>\n",
       "      <td>27.865753</td>\n",
       "    </tr>\n",
       "    <tr>\n",
       "      <th>std</th>\n",
       "      <td>18.085892</td>\n",
       "      <td>0.273890</td>\n",
       "      <td>13.786445</td>\n",
       "      <td>0.0</td>\n",
       "      <td>30.948132</td>\n",
       "    </tr>\n",
       "    <tr>\n",
       "      <th>min</th>\n",
       "      <td>15.100000</td>\n",
       "      <td>0.400000</td>\n",
       "      <td>-38.000000</td>\n",
       "      <td>0.5</td>\n",
       "      <td>7.000000</td>\n",
       "    </tr>\n",
       "    <tr>\n",
       "      <th>25%</th>\n",
       "      <td>49.700000</td>\n",
       "      <td>0.650000</td>\n",
       "      <td>31.000000</td>\n",
       "      <td>0.5</td>\n",
       "      <td>20.000000</td>\n",
       "    </tr>\n",
       "    <tr>\n",
       "      <th>50%</th>\n",
       "      <td>61.100000</td>\n",
       "      <td>0.740000</td>\n",
       "      <td>39.000000</td>\n",
       "      <td>0.5</td>\n",
       "      <td>25.000000</td>\n",
       "    </tr>\n",
       "    <tr>\n",
       "      <th>75%</th>\n",
       "      <td>71.700000</td>\n",
       "      <td>0.910000</td>\n",
       "      <td>49.000000</td>\n",
       "      <td>0.5</td>\n",
       "      <td>30.000000</td>\n",
       "    </tr>\n",
       "    <tr>\n",
       "      <th>max</th>\n",
       "      <td>212.000000</td>\n",
       "      <td>2.500000</td>\n",
       "      <td>80.000000</td>\n",
       "      <td>0.5</td>\n",
       "      <td>534.000000</td>\n",
       "    </tr>\n",
       "  </tbody>\n",
       "</table>\n",
       "</div>"
      ],
      "text/plain": [
       "       Temperature    Rainfall      Flyers  Price       Sales\n",
       "count   365.000000  365.000000  365.000000  365.0  365.000000\n",
       "mean     61.224658    0.825973   40.104110    0.5   27.865753\n",
       "std      18.085892    0.273890   13.786445    0.0   30.948132\n",
       "min      15.100000    0.400000  -38.000000    0.5    7.000000\n",
       "25%      49.700000    0.650000   31.000000    0.5   20.000000\n",
       "50%      61.100000    0.740000   39.000000    0.5   25.000000\n",
       "75%      71.700000    0.910000   49.000000    0.5   30.000000\n",
       "max     212.000000    2.500000   80.000000    0.5  534.000000"
      ]
     },
     "execution_count": 7,
     "metadata": {},
     "output_type": "execute_result"
    }
   ],
   "source": [
    "df.describe()"
   ]
  },
  {
   "cell_type": "code",
   "execution_count": 10,
   "id": "3daa77c0",
   "metadata": {},
   "outputs": [
    {
     "data": {
      "image/png": "[encoded data removed]",
      "text/plain": [
       "<Figure size 1152x648 with 6 Axes>"
      ]
     },
     "metadata": {
      "needs_background": "light"
     },
     "output_type": "display_data"
    }
   ],
   "source": [
    "df.hist(figsize=[16,9])\n",
    "plt.show()"
   ]
  },
  {
   "cell_type": "code",
   "execution_count": 14,
   "id": "71e488eb",
   "metadata": {},
   "outputs": [
    {
     "data": {
      "text/plain": [
       "(49.7, 71.7, 16.700000000000003, 104.7)"
      ]
     },
     "execution_count": 14,
     "metadata": {},
     "output_type": "execute_result"
    }
   ],
   "source": [
    "get_lower_and_upper_bounds(df.Temperature, 1.5)"
   ]
  },
  {
   "cell_type": "code",
   "execution_count": 15,
   "id": "45457c61",
   "metadata": {},
   "outputs": [
    {
     "data": {
      "text/plain": [
       "(0.65, 0.91, 0.26, 1.3)"
      ]
     },
     "execution_count": 15,
     "metadata": {},
     "output_type": "execute_result"
    }
   ],
   "source": [
    "get_lower_and_upper_bounds(df.Rainfall, 1.5)"
   ]
  },
  {
   "cell_type": "code",
   "execution_count": 16,
   "id": "7d6a7247",
   "metadata": {},
   "outputs": [
    {
     "data": {
      "text/plain": [
       "(31.0, 49.0, 4.0, 76.0)"
      ]
     },
     "execution_count": 16,
     "metadata": {},
     "output_type": "execute_result"
    }
   ],
   "source": [
    "get_lower_and_upper_bounds(df.Flyers, 1.5)"
   ]
  },
  {
   "cell_type": "code",
   "execution_count": 17,
   "id": "8cc0adcd",
   "metadata": {},
   "outputs": [
    {
     "data": {
      "text/plain": [
       "(0.5, 0.5, 0.5, 0.5)"
      ]
     },
     "execution_count": 17,
     "metadata": {},
     "output_type": "execute_result"
    }
   ],
   "source": [
    "get_lower_and_upper_bounds(df.Price, 1.5)"
   ]
  },
  {
   "cell_type": "code",
   "execution_count": 18,
   "id": "c9baa6df",
   "metadata": {},
   "outputs": [
    {
     "data": {
      "text/plain": [
       "(20.0, 30.0, 5.0, 45.0)"
      ]
     },
     "execution_count": 18,
     "metadata": {},
     "output_type": "execute_result"
    }
   ],
   "source": [
    "get_lower_and_upper_bounds(df.Sales, 1.5)"
   ]
  },
  {
   "cell_type": "code",
   "execution_count": 19,
   "id": "9404f2b6",
   "metadata": {},
   "outputs": [
    {
     "data": {
      "text/plain": [
       "(49.7, 71.7, -16.299999999999997, 137.7)"
      ]
     },
     "execution_count": 19,
     "metadata": {},
     "output_type": "execute_result"
    }
   ],
   "source": [
    "get_lower_and_upper_bounds(df.Temperature, 3)"
   ]
  },
  {
   "cell_type": "code",
   "execution_count": 20,
   "id": "7f0716f3",
   "metadata": {},
   "outputs": [
    {
     "data": {
      "text/plain": [
       "(0.65, 0.91, -0.13, 1.69)"
      ]
     },
     "execution_count": 20,
     "metadata": {},
     "output_type": "execute_result"
    }
   ],
   "source": [
    "get_lower_and_upper_bounds(df.Rainfall, 3)"
   ]
  },
  {
   "cell_type": "code",
   "execution_count": 21,
   "id": "603e13b7",
   "metadata": {},
   "outputs": [
    {
     "data": {
      "text/plain": [
       "(31.0, 49.0, -23.0, 103.0)"
      ]
     },
     "execution_count": 21,
     "metadata": {},
     "output_type": "execute_result"
    }
   ],
   "source": [
    "get_lower_and_upper_bounds(df.Flyers, 3)"
   ]
  },
  {
   "cell_type": "code",
   "execution_count": 22,
   "id": "14841722",
   "metadata": {},
   "outputs": [
    {
     "data": {
      "text/plain": [
       "(0.5, 0.5, 0.5, 0.5)"
      ]
     },
     "execution_count": 22,
     "metadata": {},
     "output_type": "execute_result"
    }
   ],
   "source": [
    "get_lower_and_upper_bounds(df.Price, 3)"
   ]
  },
  {
   "cell_type": "code",
   "execution_count": 23,
   "id": "71032288",
   "metadata": {},
   "outputs": [
    {
     "data": {
      "text/plain": [
       "(20.0, 30.0, -10.0, 60.0)"
      ]
     },
     "execution_count": 23,
     "metadata": {},
     "output_type": "execute_result"
    }
   ],
   "source": [
    "get_lower_and_upper_bounds(df.Sales, 3)"
   ]
  },
  {
   "cell_type": "code",
   "execution_count": 27,
   "id": "78bb6b8a",
   "metadata": {
    "scrolled": true
   },
   "outputs": [
    {
     "data": {
      "text/plain": [
       "41     212.0\n",
       "166     99.3\n",
       "176    102.6\n",
       "181    102.9\n",
       "190     98.0\n",
       "198     99.3\n",
       "202     99.6\n",
       "207     97.9\n",
       "338     22.0\n",
       "364     15.1\n",
       "Name: Temperature, dtype: float64"
      ]
     },
     "execution_count": 27,
     "metadata": {},
     "output_type": "execute_result"
    }
   ],
   "source": [
    "x = df.Temperature\n",
    "\n",
    "zscores = pd.Series((x - x.mean()) / x.std())\n",
    "\n",
    "# Finds all of the observations two standard deviations or more.\n",
    "x[zscores.abs() >= 2]"
   ]
  },
  {
   "cell_type": "code",
   "execution_count": 28,
   "id": "5cac33d5",
   "metadata": {},
   "outputs": [
    {
     "data": {
      "text/plain": [
       "41    212.0\n",
       "Name: Temperature, dtype: float64"
      ]
     },
     "execution_count": 28,
     "metadata": {},
     "output_type": "execute_result"
    }
   ],
   "source": [
    "# Finds all of the observations three standard deviations or more\n",
    "x[zscores.abs() >= 3]"
   ]
  },
  {
   "cell_type": "code",
   "execution_count": 30,
   "id": "ae1ce3a8",
   "metadata": {},
   "outputs": [
    {
     "data": {
      "text/plain": [
       "0      2.00\n",
       "5      1.54\n",
       "6      1.54\n",
       "10     1.54\n",
       "15     1.67\n",
       "16     1.43\n",
       "19     1.43\n",
       "23     1.54\n",
       "337    1.54\n",
       "338    1.82\n",
       "342    1.43\n",
       "343    1.82\n",
       "346    1.43\n",
       "347    1.54\n",
       "351    1.43\n",
       "355    1.54\n",
       "359    1.43\n",
       "363    1.43\n",
       "364    2.50\n",
       "Name: Rainfall, dtype: float64"
      ]
     },
     "execution_count": 30,
     "metadata": {},
     "output_type": "execute_result"
    }
   ],
   "source": [
    "x = df.Rainfall\n",
    "\n",
    "zscores = pd.Series((x - x.mean()) / x.std())\n",
    "\n",
    "# Finds all of the observations two standard deviations or more.\n",
    "x[zscores.abs() >= 2]"
   ]
  },
  {
   "cell_type": "code",
   "execution_count": 31,
   "id": "efb0a750",
   "metadata": {},
   "outputs": [
    {
     "data": {
      "text/plain": [
       "0      2.00\n",
       "15     1.67\n",
       "338    1.82\n",
       "343    1.82\n",
       "364    2.50\n",
       "Name: Rainfall, dtype: float64"
      ]
     },
     "execution_count": 31,
     "metadata": {},
     "output_type": "execute_result"
    }
   ],
   "source": [
    "# Finds all of the observations three standard deviations or more\n",
    "x[zscores.abs() >= 3]"
   ]
  },
  {
   "cell_type": "code",
   "execution_count": 32,
   "id": "78d9e33d",
   "metadata": {},
   "outputs": [
    {
     "data": {
      "text/plain": [
       "166    77\n",
       "170    70\n",
       "171    76\n",
       "182    68\n",
       "183    68\n",
       "194    80\n",
       "198    76\n",
       "203    72\n",
       "204    69\n",
       "207    74\n",
       "324   -38\n",
       "338    11\n",
       "364     9\n",
       "Name: Flyers, dtype: int64"
      ]
     },
     "execution_count": 32,
     "metadata": {},
     "output_type": "execute_result"
    }
   ],
   "source": [
    "x = df.Flyers\n",
    "\n",
    "zscores = pd.Series((x - x.mean()) / x.std())\n",
    "\n",
    "# Finds all of the observations two standard deviations or more.\n",
    "x[zscores.abs() >= 2]"
   ]
  },
  {
   "cell_type": "code",
   "execution_count": 33,
   "id": "0f6826b4",
   "metadata": {},
   "outputs": [
    {
     "data": {
      "text/plain": [
       "324   -38\n",
       "Name: Flyers, dtype: int64"
      ]
     },
     "execution_count": 33,
     "metadata": {},
     "output_type": "execute_result"
    }
   ],
   "source": [
    "# Finds all of the observations three standard deviations or more\n",
    "x[zscores.abs() >= 3]"
   ]
  },
  {
   "cell_type": "code",
   "execution_count": null,
   "id": "195cc0c9",
   "metadata": {},
   "outputs": [],
   "source": []
  }
 ],
 "metadata": {
  "kernelspec": {
   "display_name": "Python 3 (ipykernel)",
   "language": "python",
   "name": "python3"
  },
  "language_info": {
   "codemirror_mode": {
    "name": "ipython",
    "version": 3
   },
   "file_extension": ".py",
   "mimetype": "text/x-python",
   "name": "python",
   "nbconvert_exporter": "python",
   "pygments_lexer": "ipython3",
   "version": "3.9.12"
  }
 },
 "nbformat": 4,
 "nbformat_minor": 5
}
