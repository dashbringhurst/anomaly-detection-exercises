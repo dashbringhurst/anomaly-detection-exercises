{
 "cells": [
  {
   "cell_type": "markdown",
   "id": "59968626",
   "metadata": {},
   "source": [
    "The dataset for these exercises lives in the Codeup Data Science MySQL Server. The database name is curriculum_logs.\n",
    "\n",
    "\n",
    "Go through the lesson commenting code, adding docstrings, and adding markdown to support what is happening.\n",
    "\n",
    "\n",
    "Bonus:\n",
    "\n",
    "\n",
    "Discover users who are accessing our curriculum pages way beyond the end of their codeup time. What would the dataframe look like? Use time series method for detecting anomalies, like exponential moving average with %b.\n",
    "\n",
    "\n",
    "Can you label students who are viewing both the web dev and data science curriculum? Can you label students by the program they are in? Can you label users by student vs. staff?"
   ]
  },
  {
   "cell_type": "code",
   "execution_count": 34,
   "id": "ffc92ecc",
   "metadata": {},
   "outputs": [],
   "source": [
    "import pandas as pd\n",
    "import numpy as np\n",
    "import matplotlib.pyplot as plt\n",
    "import seaborn as sns\n",
    "import env"
   ]
  },
  {
   "cell_type": "code",
   "execution_count": 35,
   "id": "99d3d6dd",
   "metadata": {},
   "outputs": [],
   "source": [
    "def get_connection(db, user=env.user, host=env.host, password=env.password):\n",
    "    '''This function uses credentials from an env file to log into a database'''\n",
    "    return f'mysql+pymysql://{user}:{password}@{host}/{db}'"
   ]
  },
  {
   "cell_type": "code",
   "execution_count": 36,
   "id": "a527518c",
   "metadata": {},
   "outputs": [],
   "source": [
    "def get_curriculum_data():\n",
    "    '''The function uses the get_connection function to connect to a database and retrieve the curriculum_logs dataset'''\n",
    "    return pd.read_sql('SELECT * FROM logs', get_connection('curriculum_logs'))"
   ]
  },
  {
   "cell_type": "code",
   "execution_count": 37,
   "id": "26c9699e",
   "metadata": {},
   "outputs": [],
   "source": [
    "df = get_curriculum_data()"
   ]
  },
  {
   "cell_type": "code",
   "execution_count": 38,
   "id": "804c50da",
   "metadata": {},
   "outputs": [
    {
     "data": {
      "text/html": [
       "<div>\n",
       "<style scoped>\n",
       "    .dataframe tbody tr th:only-of-type {\n",
       "        vertical-align: middle;\n",
       "    }\n",
       "\n",
       "    .dataframe tbody tr th {\n",
       "        vertical-align: top;\n",
       "    }\n",
       "\n",
       "    .dataframe thead th {\n",
       "        text-align: right;\n",
       "    }\n",
       "</style>\n",
       "<table border=\"1\" class=\"dataframe\">\n",
       "  <thead>\n",
       "    <tr style=\"text-align: right;\">\n",
       "      <th></th>\n",
       "      <th>date</th>\n",
       "      <th>time</th>\n",
       "      <th>path</th>\n",
       "      <th>user_id</th>\n",
       "      <th>cohort_id</th>\n",
       "      <th>ip</th>\n",
       "    </tr>\n",
       "  </thead>\n",
       "  <tbody>\n",
       "    <tr>\n",
       "      <th>0</th>\n",
       "      <td>2018-01-26</td>\n",
       "      <td>09:55:03</td>\n",
       "      <td>/</td>\n",
       "      <td>1</td>\n",
       "      <td>8.0</td>\n",
       "      <td>97.105.19.61</td>\n",
       "    </tr>\n",
       "    <tr>\n",
       "      <th>1</th>\n",
       "      <td>2018-01-26</td>\n",
       "      <td>09:56:02</td>\n",
       "      <td>java-ii</td>\n",
       "      <td>1</td>\n",
       "      <td>8.0</td>\n",
       "      <td>97.105.19.61</td>\n",
       "    </tr>\n",
       "    <tr>\n",
       "      <th>2</th>\n",
       "      <td>2018-01-26</td>\n",
       "      <td>09:56:05</td>\n",
       "      <td>java-ii/object-oriented-programming</td>\n",
       "      <td>1</td>\n",
       "      <td>8.0</td>\n",
       "      <td>97.105.19.61</td>\n",
       "    </tr>\n",
       "    <tr>\n",
       "      <th>3</th>\n",
       "      <td>2018-01-26</td>\n",
       "      <td>09:56:06</td>\n",
       "      <td>slides/object_oriented_programming</td>\n",
       "      <td>1</td>\n",
       "      <td>8.0</td>\n",
       "      <td>97.105.19.61</td>\n",
       "    </tr>\n",
       "    <tr>\n",
       "      <th>4</th>\n",
       "      <td>2018-01-26</td>\n",
       "      <td>09:56:24</td>\n",
       "      <td>javascript-i/conditionals</td>\n",
       "      <td>2</td>\n",
       "      <td>22.0</td>\n",
       "      <td>97.105.19.61</td>\n",
       "    </tr>\n",
       "  </tbody>\n",
       "</table>\n",
       "</div>"
      ],
      "text/plain": [
       "         date      time                                 path  user_id  \\\n",
       "0  2018-01-26  09:55:03                                    /        1   \n",
       "1  2018-01-26  09:56:02                              java-ii        1   \n",
       "2  2018-01-26  09:56:05  java-ii/object-oriented-programming        1   \n",
       "3  2018-01-26  09:56:06   slides/object_oriented_programming        1   \n",
       "4  2018-01-26  09:56:24            javascript-i/conditionals        2   \n",
       "\n",
       "   cohort_id            ip  \n",
       "0        8.0  97.105.19.61  \n",
       "1        8.0  97.105.19.61  \n",
       "2        8.0  97.105.19.61  \n",
       "3        8.0  97.105.19.61  \n",
       "4       22.0  97.105.19.61  "
      ]
     },
     "execution_count": 38,
     "metadata": {},
     "output_type": "execute_result"
    }
   ],
   "source": [
    "df.head()"
   ]
  },
  {
   "cell_type": "code",
   "execution_count": 39,
   "id": "6b96b6a0",
   "metadata": {},
   "outputs": [
    {
     "name": "stdout",
     "output_type": "stream",
     "text": [
      "<class 'pandas.core.frame.DataFrame'>\n",
      "RangeIndex: 900223 entries, 0 to 900222\n",
      "Data columns (total 6 columns):\n",
      " #   Column     Non-Null Count   Dtype  \n",
      "---  ------     --------------   -----  \n",
      " 0   date       900223 non-null  object \n",
      " 1   time       900223 non-null  object \n",
      " 2   path       900222 non-null  object \n",
      " 3   user_id    900223 non-null  int64  \n",
      " 4   cohort_id  847330 non-null  float64\n",
      " 5   ip         900223 non-null  object \n",
      "dtypes: float64(1), int64(1), object(4)\n",
      "memory usage: 41.2+ MB\n"
     ]
    }
   ],
   "source": [
    "df.info()"
   ]
  },
  {
   "cell_type": "code",
   "execution_count": 40,
   "id": "de1be729",
   "metadata": {},
   "outputs": [
    {
     "data": {
      "text/plain": [
       "28.0     84031\n",
       "NaN      52893\n",
       "33.0     40730\n",
       "29.0     38096\n",
       "62.0     37109\n",
       "53.0     36902\n",
       "24.0     35636\n",
       "57.0     33844\n",
       "56.0     33568\n",
       "51.0     32888\n",
       "59.0     32015\n",
       "22.0     30926\n",
       "58.0     29855\n",
       "32.0     29356\n",
       "23.0     28534\n",
       "52.0     28033\n",
       "26.0     27749\n",
       "34.0     26538\n",
       "25.0     25586\n",
       "31.0     25359\n",
       "132.0    23691\n",
       "55.0     21582\n",
       "27.0     20743\n",
       "61.0     17713\n",
       "134.0    16623\n",
       "135.0    16397\n",
       "133.0    14715\n",
       "14.0      9587\n",
       "1.0       8890\n",
       "137.0     8562\n",
       "21.0      7444\n",
       "138.0     7276\n",
       "17.0      4954\n",
       "13.0      2845\n",
       "18.0      2158\n",
       "8.0       1712\n",
       "139.0     1672\n",
       "19.0      1237\n",
       "16.0       755\n",
       "15.0       691\n",
       "7.0        598\n",
       "12.0       302\n",
       "11.0       253\n",
       "2.0         93\n",
       "6.0         72\n",
       "9.0          5\n",
       "4.0          4\n",
       "5.0          1\n",
       "Name: cohort_id, dtype: int64"
      ]
     },
     "execution_count": 40,
     "metadata": {},
     "output_type": "execute_result"
    }
   ],
   "source": [
    "df.cohort_id.value_counts(dropna=False)"
   ]
  },
  {
   "cell_type": "code",
   "execution_count": 41,
   "id": "ba3e2ed3",
   "metadata": {},
   "outputs": [],
   "source": [
    "df.cohort_id = df.cohort_id.fillna(0.0)"
   ]
  },
  {
   "cell_type": "code",
   "execution_count": 42,
   "id": "4cf38a5f",
   "metadata": {},
   "outputs": [
    {
     "data": {
      "text/html": [
       "<div>\n",
       "<style scoped>\n",
       "    .dataframe tbody tr th:only-of-type {\n",
       "        vertical-align: middle;\n",
       "    }\n",
       "\n",
       "    .dataframe tbody tr th {\n",
       "        vertical-align: top;\n",
       "    }\n",
       "\n",
       "    .dataframe thead th {\n",
       "        text-align: right;\n",
       "    }\n",
       "</style>\n",
       "<table border=\"1\" class=\"dataframe\">\n",
       "  <thead>\n",
       "    <tr style=\"text-align: right;\">\n",
       "      <th></th>\n",
       "      <th>date</th>\n",
       "      <th>time</th>\n",
       "      <th>path</th>\n",
       "      <th>user_id</th>\n",
       "      <th>cohort_id</th>\n",
       "      <th>ip</th>\n",
       "    </tr>\n",
       "  </thead>\n",
       "  <tbody>\n",
       "    <tr>\n",
       "      <th>0</th>\n",
       "      <td>2018-01-26</td>\n",
       "      <td>09:55:03</td>\n",
       "      <td>/</td>\n",
       "      <td>1</td>\n",
       "      <td>8.0</td>\n",
       "      <td>97.105.19.61</td>\n",
       "    </tr>\n",
       "    <tr>\n",
       "      <th>1</th>\n",
       "      <td>2018-01-26</td>\n",
       "      <td>09:56:02</td>\n",
       "      <td>java-ii</td>\n",
       "      <td>1</td>\n",
       "      <td>8.0</td>\n",
       "      <td>97.105.19.61</td>\n",
       "    </tr>\n",
       "    <tr>\n",
       "      <th>2</th>\n",
       "      <td>2018-01-26</td>\n",
       "      <td>09:56:05</td>\n",
       "      <td>java-ii/object-oriented-programming</td>\n",
       "      <td>1</td>\n",
       "      <td>8.0</td>\n",
       "      <td>97.105.19.61</td>\n",
       "    </tr>\n",
       "    <tr>\n",
       "      <th>3</th>\n",
       "      <td>2018-01-26</td>\n",
       "      <td>09:56:06</td>\n",
       "      <td>slides/object_oriented_programming</td>\n",
       "      <td>1</td>\n",
       "      <td>8.0</td>\n",
       "      <td>97.105.19.61</td>\n",
       "    </tr>\n",
       "    <tr>\n",
       "      <th>4</th>\n",
       "      <td>2018-01-26</td>\n",
       "      <td>09:56:24</td>\n",
       "      <td>javascript-i/conditionals</td>\n",
       "      <td>2</td>\n",
       "      <td>22.0</td>\n",
       "      <td>97.105.19.61</td>\n",
       "    </tr>\n",
       "    <tr>\n",
       "      <th>...</th>\n",
       "      <td>...</td>\n",
       "      <td>...</td>\n",
       "      <td>...</td>\n",
       "      <td>...</td>\n",
       "      <td>...</td>\n",
       "      <td>...</td>\n",
       "    </tr>\n",
       "    <tr>\n",
       "      <th>900218</th>\n",
       "      <td>2021-04-21</td>\n",
       "      <td>16:41:51</td>\n",
       "      <td>jquery/personal-site</td>\n",
       "      <td>64</td>\n",
       "      <td>28.0</td>\n",
       "      <td>71.150.217.33</td>\n",
       "    </tr>\n",
       "    <tr>\n",
       "      <th>900219</th>\n",
       "      <td>2021-04-21</td>\n",
       "      <td>16:42:02</td>\n",
       "      <td>jquery/mapbox-api</td>\n",
       "      <td>64</td>\n",
       "      <td>28.0</td>\n",
       "      <td>71.150.217.33</td>\n",
       "    </tr>\n",
       "    <tr>\n",
       "      <th>900220</th>\n",
       "      <td>2021-04-21</td>\n",
       "      <td>16:42:09</td>\n",
       "      <td>jquery/ajax/weather-map</td>\n",
       "      <td>64</td>\n",
       "      <td>28.0</td>\n",
       "      <td>71.150.217.33</td>\n",
       "    </tr>\n",
       "    <tr>\n",
       "      <th>900221</th>\n",
       "      <td>2021-04-21</td>\n",
       "      <td>16:44:37</td>\n",
       "      <td>anomaly-detection/discrete-probabilistic-methods</td>\n",
       "      <td>744</td>\n",
       "      <td>28.0</td>\n",
       "      <td>24.160.137.86</td>\n",
       "    </tr>\n",
       "    <tr>\n",
       "      <th>900222</th>\n",
       "      <td>2021-04-21</td>\n",
       "      <td>16:44:39</td>\n",
       "      <td>jquery/mapbox-api</td>\n",
       "      <td>64</td>\n",
       "      <td>28.0</td>\n",
       "      <td>71.150.217.33</td>\n",
       "    </tr>\n",
       "  </tbody>\n",
       "</table>\n",
       "<p>900223 rows × 6 columns</p>\n",
       "</div>"
      ],
      "text/plain": [
       "              date      time  \\\n",
       "0       2018-01-26  09:55:03   \n",
       "1       2018-01-26  09:56:02   \n",
       "2       2018-01-26  09:56:05   \n",
       "3       2018-01-26  09:56:06   \n",
       "4       2018-01-26  09:56:24   \n",
       "...            ...       ...   \n",
       "900218  2021-04-21  16:41:51   \n",
       "900219  2021-04-21  16:42:02   \n",
       "900220  2021-04-21  16:42:09   \n",
       "900221  2021-04-21  16:44:37   \n",
       "900222  2021-04-21  16:44:39   \n",
       "\n",
       "                                                    path  user_id  cohort_id  \\\n",
       "0                                                      /        1        8.0   \n",
       "1                                                java-ii        1        8.0   \n",
       "2                    java-ii/object-oriented-programming        1        8.0   \n",
       "3                     slides/object_oriented_programming        1        8.0   \n",
       "4                              javascript-i/conditionals        2       22.0   \n",
       "...                                                  ...      ...        ...   \n",
       "900218                              jquery/personal-site       64       28.0   \n",
       "900219                                 jquery/mapbox-api       64       28.0   \n",
       "900220                           jquery/ajax/weather-map       64       28.0   \n",
       "900221  anomaly-detection/discrete-probabilistic-methods      744       28.0   \n",
       "900222                                 jquery/mapbox-api       64       28.0   \n",
       "\n",
       "                   ip  \n",
       "0        97.105.19.61  \n",
       "1        97.105.19.61  \n",
       "2        97.105.19.61  \n",
       "3        97.105.19.61  \n",
       "4        97.105.19.61  \n",
       "...               ...  \n",
       "900218  71.150.217.33  \n",
       "900219  71.150.217.33  \n",
       "900220  71.150.217.33  \n",
       "900221  24.160.137.86  \n",
       "900222  71.150.217.33  \n",
       "\n",
       "[900223 rows x 6 columns]"
      ]
     },
     "execution_count": 42,
     "metadata": {},
     "output_type": "execute_result"
    }
   ],
   "source": [
    "df"
   ]
  },
  {
   "cell_type": "code",
   "execution_count": 43,
   "id": "93256aa0",
   "metadata": {},
   "outputs": [],
   "source": [
    "df['datetime'] = df[['date', 'time']].T.agg(' '.join)"
   ]
  },
  {
   "cell_type": "code",
   "execution_count": 44,
   "id": "4fc1aa2d",
   "metadata": {},
   "outputs": [
    {
     "data": {
      "text/html": [
       "<div>\n",
       "<style scoped>\n",
       "    .dataframe tbody tr th:only-of-type {\n",
       "        vertical-align: middle;\n",
       "    }\n",
       "\n",
       "    .dataframe tbody tr th {\n",
       "        vertical-align: top;\n",
       "    }\n",
       "\n",
       "    .dataframe thead th {\n",
       "        text-align: right;\n",
       "    }\n",
       "</style>\n",
       "<table border=\"1\" class=\"dataframe\">\n",
       "  <thead>\n",
       "    <tr style=\"text-align: right;\">\n",
       "      <th></th>\n",
       "      <th>date</th>\n",
       "      <th>time</th>\n",
       "      <th>path</th>\n",
       "      <th>user_id</th>\n",
       "      <th>cohort_id</th>\n",
       "      <th>ip</th>\n",
       "      <th>datetime</th>\n",
       "    </tr>\n",
       "  </thead>\n",
       "  <tbody>\n",
       "    <tr>\n",
       "      <th>0</th>\n",
       "      <td>2018-01-26</td>\n",
       "      <td>09:55:03</td>\n",
       "      <td>/</td>\n",
       "      <td>1</td>\n",
       "      <td>8.0</td>\n",
       "      <td>97.105.19.61</td>\n",
       "      <td>2018-01-26 09:55:03</td>\n",
       "    </tr>\n",
       "    <tr>\n",
       "      <th>1</th>\n",
       "      <td>2018-01-26</td>\n",
       "      <td>09:56:02</td>\n",
       "      <td>java-ii</td>\n",
       "      <td>1</td>\n",
       "      <td>8.0</td>\n",
       "      <td>97.105.19.61</td>\n",
       "      <td>2018-01-26 09:56:02</td>\n",
       "    </tr>\n",
       "    <tr>\n",
       "      <th>2</th>\n",
       "      <td>2018-01-26</td>\n",
       "      <td>09:56:05</td>\n",
       "      <td>java-ii/object-oriented-programming</td>\n",
       "      <td>1</td>\n",
       "      <td>8.0</td>\n",
       "      <td>97.105.19.61</td>\n",
       "      <td>2018-01-26 09:56:05</td>\n",
       "    </tr>\n",
       "    <tr>\n",
       "      <th>3</th>\n",
       "      <td>2018-01-26</td>\n",
       "      <td>09:56:06</td>\n",
       "      <td>slides/object_oriented_programming</td>\n",
       "      <td>1</td>\n",
       "      <td>8.0</td>\n",
       "      <td>97.105.19.61</td>\n",
       "      <td>2018-01-26 09:56:06</td>\n",
       "    </tr>\n",
       "    <tr>\n",
       "      <th>4</th>\n",
       "      <td>2018-01-26</td>\n",
       "      <td>09:56:24</td>\n",
       "      <td>javascript-i/conditionals</td>\n",
       "      <td>2</td>\n",
       "      <td>22.0</td>\n",
       "      <td>97.105.19.61</td>\n",
       "      <td>2018-01-26 09:56:24</td>\n",
       "    </tr>\n",
       "    <tr>\n",
       "      <th>...</th>\n",
       "      <td>...</td>\n",
       "      <td>...</td>\n",
       "      <td>...</td>\n",
       "      <td>...</td>\n",
       "      <td>...</td>\n",
       "      <td>...</td>\n",
       "      <td>...</td>\n",
       "    </tr>\n",
       "    <tr>\n",
       "      <th>900218</th>\n",
       "      <td>2021-04-21</td>\n",
       "      <td>16:41:51</td>\n",
       "      <td>jquery/personal-site</td>\n",
       "      <td>64</td>\n",
       "      <td>28.0</td>\n",
       "      <td>71.150.217.33</td>\n",
       "      <td>2021-04-21 16:41:51</td>\n",
       "    </tr>\n",
       "    <tr>\n",
       "      <th>900219</th>\n",
       "      <td>2021-04-21</td>\n",
       "      <td>16:42:02</td>\n",
       "      <td>jquery/mapbox-api</td>\n",
       "      <td>64</td>\n",
       "      <td>28.0</td>\n",
       "      <td>71.150.217.33</td>\n",
       "      <td>2021-04-21 16:42:02</td>\n",
       "    </tr>\n",
       "    <tr>\n",
       "      <th>900220</th>\n",
       "      <td>2021-04-21</td>\n",
       "      <td>16:42:09</td>\n",
       "      <td>jquery/ajax/weather-map</td>\n",
       "      <td>64</td>\n",
       "      <td>28.0</td>\n",
       "      <td>71.150.217.33</td>\n",
       "      <td>2021-04-21 16:42:09</td>\n",
       "    </tr>\n",
       "    <tr>\n",
       "      <th>900221</th>\n",
       "      <td>2021-04-21</td>\n",
       "      <td>16:44:37</td>\n",
       "      <td>anomaly-detection/discrete-probabilistic-methods</td>\n",
       "      <td>744</td>\n",
       "      <td>28.0</td>\n",
       "      <td>24.160.137.86</td>\n",
       "      <td>2021-04-21 16:44:37</td>\n",
       "    </tr>\n",
       "    <tr>\n",
       "      <th>900222</th>\n",
       "      <td>2021-04-21</td>\n",
       "      <td>16:44:39</td>\n",
       "      <td>jquery/mapbox-api</td>\n",
       "      <td>64</td>\n",
       "      <td>28.0</td>\n",
       "      <td>71.150.217.33</td>\n",
       "      <td>2021-04-21 16:44:39</td>\n",
       "    </tr>\n",
       "  </tbody>\n",
       "</table>\n",
       "<p>900223 rows × 7 columns</p>\n",
       "</div>"
      ],
      "text/plain": [
       "              date      time  \\\n",
       "0       2018-01-26  09:55:03   \n",
       "1       2018-01-26  09:56:02   \n",
       "2       2018-01-26  09:56:05   \n",
       "3       2018-01-26  09:56:06   \n",
       "4       2018-01-26  09:56:24   \n",
       "...            ...       ...   \n",
       "900218  2021-04-21  16:41:51   \n",
       "900219  2021-04-21  16:42:02   \n",
       "900220  2021-04-21  16:42:09   \n",
       "900221  2021-04-21  16:44:37   \n",
       "900222  2021-04-21  16:44:39   \n",
       "\n",
       "                                                    path  user_id  cohort_id  \\\n",
       "0                                                      /        1        8.0   \n",
       "1                                                java-ii        1        8.0   \n",
       "2                    java-ii/object-oriented-programming        1        8.0   \n",
       "3                     slides/object_oriented_programming        1        8.0   \n",
       "4                              javascript-i/conditionals        2       22.0   \n",
       "...                                                  ...      ...        ...   \n",
       "900218                              jquery/personal-site       64       28.0   \n",
       "900219                                 jquery/mapbox-api       64       28.0   \n",
       "900220                           jquery/ajax/weather-map       64       28.0   \n",
       "900221  anomaly-detection/discrete-probabilistic-methods      744       28.0   \n",
       "900222                                 jquery/mapbox-api       64       28.0   \n",
       "\n",
       "                   ip             datetime  \n",
       "0        97.105.19.61  2018-01-26 09:55:03  \n",
       "1        97.105.19.61  2018-01-26 09:56:02  \n",
       "2        97.105.19.61  2018-01-26 09:56:05  \n",
       "3        97.105.19.61  2018-01-26 09:56:06  \n",
       "4        97.105.19.61  2018-01-26 09:56:24  \n",
       "...               ...                  ...  \n",
       "900218  71.150.217.33  2021-04-21 16:41:51  \n",
       "900219  71.150.217.33  2021-04-21 16:42:02  \n",
       "900220  71.150.217.33  2021-04-21 16:42:09  \n",
       "900221  24.160.137.86  2021-04-21 16:44:37  \n",
       "900222  71.150.217.33  2021-04-21 16:44:39  \n",
       "\n",
       "[900223 rows x 7 columns]"
      ]
     },
     "execution_count": 44,
     "metadata": {},
     "output_type": "execute_result"
    }
   ],
   "source": [
    "df"
   ]
  },
  {
   "cell_type": "code",
   "execution_count": 45,
   "id": "61051d0c",
   "metadata": {},
   "outputs": [
    {
     "data": {
      "text/html": [
       "<div>\n",
       "<style scoped>\n",
       "    .dataframe tbody tr th:only-of-type {\n",
       "        vertical-align: middle;\n",
       "    }\n",
       "\n",
       "    .dataframe tbody tr th {\n",
       "        vertical-align: top;\n",
       "    }\n",
       "\n",
       "    .dataframe thead th {\n",
       "        text-align: right;\n",
       "    }\n",
       "</style>\n",
       "<table border=\"1\" class=\"dataframe\">\n",
       "  <thead>\n",
       "    <tr style=\"text-align: right;\">\n",
       "      <th></th>\n",
       "      <th>path</th>\n",
       "      <th>user_id</th>\n",
       "      <th>cohort_id</th>\n",
       "      <th>ip</th>\n",
       "      <th>datetime</th>\n",
       "    </tr>\n",
       "  </thead>\n",
       "  <tbody>\n",
       "    <tr>\n",
       "      <th>0</th>\n",
       "      <td>/</td>\n",
       "      <td>1</td>\n",
       "      <td>8.0</td>\n",
       "      <td>97.105.19.61</td>\n",
       "      <td>2018-01-26 09:55:03</td>\n",
       "    </tr>\n",
       "    <tr>\n",
       "      <th>1</th>\n",
       "      <td>java-ii</td>\n",
       "      <td>1</td>\n",
       "      <td>8.0</td>\n",
       "      <td>97.105.19.61</td>\n",
       "      <td>2018-01-26 09:56:02</td>\n",
       "    </tr>\n",
       "    <tr>\n",
       "      <th>2</th>\n",
       "      <td>java-ii/object-oriented-programming</td>\n",
       "      <td>1</td>\n",
       "      <td>8.0</td>\n",
       "      <td>97.105.19.61</td>\n",
       "      <td>2018-01-26 09:56:05</td>\n",
       "    </tr>\n",
       "    <tr>\n",
       "      <th>3</th>\n",
       "      <td>slides/object_oriented_programming</td>\n",
       "      <td>1</td>\n",
       "      <td>8.0</td>\n",
       "      <td>97.105.19.61</td>\n",
       "      <td>2018-01-26 09:56:06</td>\n",
       "    </tr>\n",
       "    <tr>\n",
       "      <th>4</th>\n",
       "      <td>javascript-i/conditionals</td>\n",
       "      <td>2</td>\n",
       "      <td>22.0</td>\n",
       "      <td>97.105.19.61</td>\n",
       "      <td>2018-01-26 09:56:24</td>\n",
       "    </tr>\n",
       "    <tr>\n",
       "      <th>...</th>\n",
       "      <td>...</td>\n",
       "      <td>...</td>\n",
       "      <td>...</td>\n",
       "      <td>...</td>\n",
       "      <td>...</td>\n",
       "    </tr>\n",
       "    <tr>\n",
       "      <th>900218</th>\n",
       "      <td>jquery/personal-site</td>\n",
       "      <td>64</td>\n",
       "      <td>28.0</td>\n",
       "      <td>71.150.217.33</td>\n",
       "      <td>2021-04-21 16:41:51</td>\n",
       "    </tr>\n",
       "    <tr>\n",
       "      <th>900219</th>\n",
       "      <td>jquery/mapbox-api</td>\n",
       "      <td>64</td>\n",
       "      <td>28.0</td>\n",
       "      <td>71.150.217.33</td>\n",
       "      <td>2021-04-21 16:42:02</td>\n",
       "    </tr>\n",
       "    <tr>\n",
       "      <th>900220</th>\n",
       "      <td>jquery/ajax/weather-map</td>\n",
       "      <td>64</td>\n",
       "      <td>28.0</td>\n",
       "      <td>71.150.217.33</td>\n",
       "      <td>2021-04-21 16:42:09</td>\n",
       "    </tr>\n",
       "    <tr>\n",
       "      <th>900221</th>\n",
       "      <td>anomaly-detection/discrete-probabilistic-methods</td>\n",
       "      <td>744</td>\n",
       "      <td>28.0</td>\n",
       "      <td>24.160.137.86</td>\n",
       "      <td>2021-04-21 16:44:37</td>\n",
       "    </tr>\n",
       "    <tr>\n",
       "      <th>900222</th>\n",
       "      <td>jquery/mapbox-api</td>\n",
       "      <td>64</td>\n",
       "      <td>28.0</td>\n",
       "      <td>71.150.217.33</td>\n",
       "      <td>2021-04-21 16:44:39</td>\n",
       "    </tr>\n",
       "  </tbody>\n",
       "</table>\n",
       "<p>900223 rows × 5 columns</p>\n",
       "</div>"
      ],
      "text/plain": [
       "                                                    path  user_id  cohort_id  \\\n",
       "0                                                      /        1        8.0   \n",
       "1                                                java-ii        1        8.0   \n",
       "2                    java-ii/object-oriented-programming        1        8.0   \n",
       "3                     slides/object_oriented_programming        1        8.0   \n",
       "4                              javascript-i/conditionals        2       22.0   \n",
       "...                                                  ...      ...        ...   \n",
       "900218                              jquery/personal-site       64       28.0   \n",
       "900219                                 jquery/mapbox-api       64       28.0   \n",
       "900220                           jquery/ajax/weather-map       64       28.0   \n",
       "900221  anomaly-detection/discrete-probabilistic-methods      744       28.0   \n",
       "900222                                 jquery/mapbox-api       64       28.0   \n",
       "\n",
       "                   ip             datetime  \n",
       "0        97.105.19.61  2018-01-26 09:55:03  \n",
       "1        97.105.19.61  2018-01-26 09:56:02  \n",
       "2        97.105.19.61  2018-01-26 09:56:05  \n",
       "3        97.105.19.61  2018-01-26 09:56:06  \n",
       "4        97.105.19.61  2018-01-26 09:56:24  \n",
       "...               ...                  ...  \n",
       "900218  71.150.217.33  2021-04-21 16:41:51  \n",
       "900219  71.150.217.33  2021-04-21 16:42:02  \n",
       "900220  71.150.217.33  2021-04-21 16:42:09  \n",
       "900221  24.160.137.86  2021-04-21 16:44:37  \n",
       "900222  71.150.217.33  2021-04-21 16:44:39  \n",
       "\n",
       "[900223 rows x 5 columns]"
      ]
     },
     "execution_count": 45,
     "metadata": {},
     "output_type": "execute_result"
    }
   ],
   "source": [
    "df = df.drop(columns=['date','time'])\n",
    "df"
   ]
  },
  {
   "cell_type": "code",
   "execution_count": 46,
   "id": "d277d6b2",
   "metadata": {},
   "outputs": [],
   "source": [
    "df.datetime = pd.to_datetime(df.datetime)\n",
    "df = df.set_index(df.datetime)"
   ]
  },
  {
   "cell_type": "code",
   "execution_count": 47,
   "id": "14dd7ce6",
   "metadata": {},
   "outputs": [
    {
     "data": {
      "text/html": [
       "<div>\n",
       "<style scoped>\n",
       "    .dataframe tbody tr th:only-of-type {\n",
       "        vertical-align: middle;\n",
       "    }\n",
       "\n",
       "    .dataframe tbody tr th {\n",
       "        vertical-align: top;\n",
       "    }\n",
       "\n",
       "    .dataframe thead th {\n",
       "        text-align: right;\n",
       "    }\n",
       "</style>\n",
       "<table border=\"1\" class=\"dataframe\">\n",
       "  <thead>\n",
       "    <tr style=\"text-align: right;\">\n",
       "      <th></th>\n",
       "      <th>path</th>\n",
       "      <th>user_id</th>\n",
       "      <th>cohort_id</th>\n",
       "      <th>ip</th>\n",
       "      <th>datetime</th>\n",
       "    </tr>\n",
       "    <tr>\n",
       "      <th>datetime</th>\n",
       "      <th></th>\n",
       "      <th></th>\n",
       "      <th></th>\n",
       "      <th></th>\n",
       "      <th></th>\n",
       "    </tr>\n",
       "  </thead>\n",
       "  <tbody>\n",
       "    <tr>\n",
       "      <th>2018-01-26 09:55:03</th>\n",
       "      <td>/</td>\n",
       "      <td>1</td>\n",
       "      <td>8.0</td>\n",
       "      <td>97.105.19.61</td>\n",
       "      <td>2018-01-26 09:55:03</td>\n",
       "    </tr>\n",
       "    <tr>\n",
       "      <th>2018-01-26 09:56:02</th>\n",
       "      <td>java-ii</td>\n",
       "      <td>1</td>\n",
       "      <td>8.0</td>\n",
       "      <td>97.105.19.61</td>\n",
       "      <td>2018-01-26 09:56:02</td>\n",
       "    </tr>\n",
       "    <tr>\n",
       "      <th>2018-01-26 09:56:05</th>\n",
       "      <td>java-ii/object-oriented-programming</td>\n",
       "      <td>1</td>\n",
       "      <td>8.0</td>\n",
       "      <td>97.105.19.61</td>\n",
       "      <td>2018-01-26 09:56:05</td>\n",
       "    </tr>\n",
       "    <tr>\n",
       "      <th>2018-01-26 09:56:06</th>\n",
       "      <td>slides/object_oriented_programming</td>\n",
       "      <td>1</td>\n",
       "      <td>8.0</td>\n",
       "      <td>97.105.19.61</td>\n",
       "      <td>2018-01-26 09:56:06</td>\n",
       "    </tr>\n",
       "    <tr>\n",
       "      <th>2018-01-26 09:56:24</th>\n",
       "      <td>javascript-i/conditionals</td>\n",
       "      <td>2</td>\n",
       "      <td>22.0</td>\n",
       "      <td>97.105.19.61</td>\n",
       "      <td>2018-01-26 09:56:24</td>\n",
       "    </tr>\n",
       "    <tr>\n",
       "      <th>...</th>\n",
       "      <td>...</td>\n",
       "      <td>...</td>\n",
       "      <td>...</td>\n",
       "      <td>...</td>\n",
       "      <td>...</td>\n",
       "    </tr>\n",
       "    <tr>\n",
       "      <th>2021-04-21 16:41:51</th>\n",
       "      <td>jquery/personal-site</td>\n",
       "      <td>64</td>\n",
       "      <td>28.0</td>\n",
       "      <td>71.150.217.33</td>\n",
       "      <td>2021-04-21 16:41:51</td>\n",
       "    </tr>\n",
       "    <tr>\n",
       "      <th>2021-04-21 16:42:02</th>\n",
       "      <td>jquery/mapbox-api</td>\n",
       "      <td>64</td>\n",
       "      <td>28.0</td>\n",
       "      <td>71.150.217.33</td>\n",
       "      <td>2021-04-21 16:42:02</td>\n",
       "    </tr>\n",
       "    <tr>\n",
       "      <th>2021-04-21 16:42:09</th>\n",
       "      <td>jquery/ajax/weather-map</td>\n",
       "      <td>64</td>\n",
       "      <td>28.0</td>\n",
       "      <td>71.150.217.33</td>\n",
       "      <td>2021-04-21 16:42:09</td>\n",
       "    </tr>\n",
       "    <tr>\n",
       "      <th>2021-04-21 16:44:37</th>\n",
       "      <td>anomaly-detection/discrete-probabilistic-methods</td>\n",
       "      <td>744</td>\n",
       "      <td>28.0</td>\n",
       "      <td>24.160.137.86</td>\n",
       "      <td>2021-04-21 16:44:37</td>\n",
       "    </tr>\n",
       "    <tr>\n",
       "      <th>2021-04-21 16:44:39</th>\n",
       "      <td>jquery/mapbox-api</td>\n",
       "      <td>64</td>\n",
       "      <td>28.0</td>\n",
       "      <td>71.150.217.33</td>\n",
       "      <td>2021-04-21 16:44:39</td>\n",
       "    </tr>\n",
       "  </tbody>\n",
       "</table>\n",
       "<p>900223 rows × 5 columns</p>\n",
       "</div>"
      ],
      "text/plain": [
       "                                                                 path  \\\n",
       "datetime                                                                \n",
       "2018-01-26 09:55:03                                                 /   \n",
       "2018-01-26 09:56:02                                           java-ii   \n",
       "2018-01-26 09:56:05               java-ii/object-oriented-programming   \n",
       "2018-01-26 09:56:06                slides/object_oriented_programming   \n",
       "2018-01-26 09:56:24                         javascript-i/conditionals   \n",
       "...                                                               ...   \n",
       "2021-04-21 16:41:51                              jquery/personal-site   \n",
       "2021-04-21 16:42:02                                 jquery/mapbox-api   \n",
       "2021-04-21 16:42:09                           jquery/ajax/weather-map   \n",
       "2021-04-21 16:44:37  anomaly-detection/discrete-probabilistic-methods   \n",
       "2021-04-21 16:44:39                                 jquery/mapbox-api   \n",
       "\n",
       "                     user_id  cohort_id             ip            datetime  \n",
       "datetime                                                                    \n",
       "2018-01-26 09:55:03        1        8.0   97.105.19.61 2018-01-26 09:55:03  \n",
       "2018-01-26 09:56:02        1        8.0   97.105.19.61 2018-01-26 09:56:02  \n",
       "2018-01-26 09:56:05        1        8.0   97.105.19.61 2018-01-26 09:56:05  \n",
       "2018-01-26 09:56:06        1        8.0   97.105.19.61 2018-01-26 09:56:06  \n",
       "2018-01-26 09:56:24        2       22.0   97.105.19.61 2018-01-26 09:56:24  \n",
       "...                      ...        ...            ...                 ...  \n",
       "2021-04-21 16:41:51       64       28.0  71.150.217.33 2021-04-21 16:41:51  \n",
       "2021-04-21 16:42:02       64       28.0  71.150.217.33 2021-04-21 16:42:02  \n",
       "2021-04-21 16:42:09       64       28.0  71.150.217.33 2021-04-21 16:42:09  \n",
       "2021-04-21 16:44:37      744       28.0  24.160.137.86 2021-04-21 16:44:37  \n",
       "2021-04-21 16:44:39       64       28.0  71.150.217.33 2021-04-21 16:44:39  \n",
       "\n",
       "[900223 rows x 5 columns]"
      ]
     },
     "execution_count": 47,
     "metadata": {},
     "output_type": "execute_result"
    }
   ],
   "source": [
    "df"
   ]
  },
  {
   "cell_type": "code",
   "execution_count": 48,
   "id": "68cab9e8",
   "metadata": {},
   "outputs": [
    {
     "data": {
      "text/plain": [
       "datetime\n",
       "2018-01-26    572\n",
       "2018-01-27    230\n",
       "2018-01-28    170\n",
       "2018-01-29    830\n",
       "2018-01-30    652\n",
       "Freq: D, Name: path, dtype: int64"
      ]
     },
     "execution_count": 48,
     "metadata": {},
     "output_type": "execute_result"
    }
   ],
   "source": [
    "pages = df['path'].resample('d').count()\n",
    "pages.head()"
   ]
  },
  {
   "cell_type": "code",
   "execution_count": 49,
   "id": "179d8a0e",
   "metadata": {},
   "outputs": [
    {
     "data": {
      "text/plain": [
       "<AxesSubplot:xlabel='datetime'>"
      ]
     },
     "execution_count": 49,
     "metadata": {},
     "output_type": "execute_result"
    },
    {
     "data": {
      "image/png": "[encoded data removed]",
      "text/plain": [
       "<Figure size 432x288 with 1 Axes>"
      ]
     },
     "metadata": {
      "needs_background": "light"
     },
     "output_type": "display_data"
    }
   ],
   "source": [
    "pages.plot()"
   ]
  },
  {
   "cell_type": "code",
   "execution_count": 50,
   "id": "413ac6cc",
   "metadata": {},
   "outputs": [
    {
     "data": {
      "text/plain": [
       "datetime\n",
       "2018-01-26    572.000000\n",
       "2018-01-27    376.571429\n",
       "2018-01-28    287.243243\n",
       "2018-01-29    485.737143\n",
       "2018-01-30    540.235595\n",
       "Freq: D, Name: path, dtype: float64"
      ]
     },
     "execution_count": 50,
     "metadata": {},
     "output_type": "execute_result"
    }
   ],
   "source": [
    "ema_7d = pages.ewm(span=7).mean()\n",
    "ema_7d.head()"
   ]
  },
  {
   "cell_type": "code",
   "execution_count": 51,
   "id": "1ce73e94",
   "metadata": {},
   "outputs": [
    {
     "data": {
      "text/plain": [
       "datetime\n",
       "2018-01-26    572.000000\n",
       "2018-01-27    388.785714\n",
       "2018-01-28    305.208829\n",
       "2018-01-29    465.757252\n",
       "2018-01-30    514.347700\n",
       "Freq: D, Name: path, dtype: float64"
      ]
     },
     "execution_count": 51,
     "metadata": {},
     "output_type": "execute_result"
    }
   ],
   "source": [
    "ema_14d = pages.ewm(span=14).mean()\n",
    "ema_14d.head()"
   ]
  },
  {
   "cell_type": "code",
   "execution_count": 52,
   "id": "ce350eea",
   "metadata": {},
   "outputs": [
    {
     "data": {
      "text/plain": [
       "datetime\n",
       "2018-01-26    572.000000\n",
       "2018-01-27    395.300000\n",
       "2018-01-28    315.139578\n",
       "2018-01-29    457.002386\n",
       "2018-01-30    501.369064\n",
       "Freq: D, Name: path, dtype: float64"
      ]
     },
     "execution_count": 52,
     "metadata": {},
     "output_type": "execute_result"
    }
   ],
   "source": [
    "ema_30d = pages.ewm(span=30).mean()\n",
    "ema_30d.head()"
   ]
  },
  {
   "cell_type": "code",
   "execution_count": 53,
   "id": "eca66771",
   "metadata": {},
   "outputs": [
    {
     "data": {
      "text/plain": [
       "datetime\n",
       "2018-01-26    572.000000\n",
       "2018-01-27    399.100000\n",
       "2018-01-28    321.030081\n",
       "2018-01-29    452.545042\n",
       "2018-01-30    494.228442\n",
       "Freq: D, Name: path, dtype: float64"
      ]
     },
     "execution_count": 53,
     "metadata": {},
     "output_type": "execute_result"
    }
   ],
   "source": [
    "ema_90d = pages.ewm(span=90).mean()\n",
    "ema_90d.head()"
   ]
  },
  {
   "cell_type": "code",
   "execution_count": 54,
   "id": "94ff45f9",
   "metadata": {},
   "outputs": [
    {
     "data": {
      "image/png": "[encoded data removed]",
      "text/plain": [
       "<Figure size 864x432 with 1 Axes>"
      ]
     },
     "metadata": {
      "needs_background": "light"
     },
     "output_type": "display_data"
    }
   ],
   "source": [
    "fig, ax = plt.subplots(figsize=(12,6))\n",
    "\n",
    "ax.plot(pages.index, pages, label='Daily', alpha=.5)\n",
    "\n",
    "ax.plot(pages.index, ema_7d, label = '7-day EMA')\n",
    "ax.plot(pages.index, ema_14d, label = '14-day EMA')\n",
    "ax.plot(pages.index, ema_30d, label = '30-day EMA')\n",
    "ax.plot(pages.index, ema_90d, label = '30-day EMA')\n",
    "\n",
    "ax.legend(loc='best')\n",
    "ax.set_ylabel('Number of pages')\n",
    "\n",
    "plt.show()"
   ]
  },
  {
   "cell_type": "code",
   "execution_count": 55,
   "id": "8c20192e",
   "metadata": {},
   "outputs": [
    {
     "data": {
      "text/plain": [
       "datetime\n",
       "2018-01-26    572.000000\n",
       "2018-01-27    395.300000\n",
       "2018-01-28    315.139578\n",
       "2018-01-29    457.002386\n",
       "2018-01-30    501.369064\n",
       "Freq: D, Name: path, dtype: float64"
      ]
     },
     "execution_count": 55,
     "metadata": {},
     "output_type": "execute_result"
    }
   ],
   "source": [
    "# set the window span\n",
    "span = 30\n",
    "\n",
    "# compute midband\n",
    "midband = pages.ewm(span=span).mean()\n",
    "\n",
    "midband.head()"
   ]
  },
  {
   "cell_type": "code",
   "execution_count": 56,
   "id": "8f6fa4d8",
   "metadata": {},
   "outputs": [
    {
     "data": {
      "text/plain": [
       "datetime\n",
       "2018-01-26           NaN\n",
       "2018-01-27    241.830519\n",
       "2018-01-28    213.878138\n",
       "2018-01-29    316.467837\n",
       "2018-01-30    284.479727\n",
       "Freq: D, Name: path, dtype: float64"
      ]
     },
     "execution_count": 56,
     "metadata": {},
     "output_type": "execute_result"
    }
   ],
   "source": [
    "# compute exponential stdev\n",
    "stdev = pages.ewm(span=span).std()\n",
    "\n",
    "stdev.head()"
   ]
  },
  {
   "cell_type": "code",
   "execution_count": 57,
   "id": "79768e43",
   "metadata": {},
   "outputs": [
    {
     "data": {
      "text/plain": [
       "datetime\n",
       "2018-01-26            NaN\n",
       "2018-01-27    1120.791557\n",
       "2018-01-28     956.773991\n",
       "2018-01-29    1406.405897\n",
       "2018-01-30    1354.808245\n",
       "                 ...     \n",
       "2021-04-17    3545.216722\n",
       "2021-04-18    3486.733695\n",
       "2021-04-19    3569.147958\n",
       "2021-04-20    3579.231798\n",
       "2021-04-21    3499.094360\n",
       "Freq: D, Name: path, Length: 1182, dtype: float64"
      ]
     },
     "execution_count": 57,
     "metadata": {},
     "output_type": "execute_result"
    }
   ],
   "source": [
    "# compute upper and lower bands\n",
    "ub = midband + stdev*3\n",
    "lb = midband - stdev*3\n",
    "ub"
   ]
  },
  {
   "cell_type": "code",
   "execution_count": 58,
   "id": "85700e9b",
   "metadata": {},
   "outputs": [
    {
     "data": {
      "text/plain": [
       "datetime\n",
       "2018-01-26           NaN\n",
       "2018-01-27   -330.191557\n",
       "2018-01-28   -326.494835\n",
       "2018-01-29   -492.401124\n",
       "2018-01-30   -352.070116\n",
       "                 ...    \n",
       "2021-04-17   -894.858492\n",
       "2021-04-18   -922.334061\n",
       "2021-04-19   -891.999913\n",
       "2021-04-20   -825.770723\n",
       "2021-04-21   -777.340451\n",
       "Freq: D, Name: path, Length: 1182, dtype: float64"
      ]
     },
     "execution_count": 58,
     "metadata": {},
     "output_type": "execute_result"
    }
   ],
   "source": [
    "lb"
   ]
  },
  {
   "cell_type": "code",
   "execution_count": 59,
   "id": "eb83b15a",
   "metadata": {},
   "outputs": [
    {
     "data": {
      "text/html": [
       "<div>\n",
       "<style scoped>\n",
       "    .dataframe tbody tr th:only-of-type {\n",
       "        vertical-align: middle;\n",
       "    }\n",
       "\n",
       "    .dataframe tbody tr th {\n",
       "        vertical-align: top;\n",
       "    }\n",
       "\n",
       "    .dataframe thead th {\n",
       "        text-align: right;\n",
       "    }\n",
       "</style>\n",
       "<table border=\"1\" class=\"dataframe\">\n",
       "  <thead>\n",
       "    <tr style=\"text-align: right;\">\n",
       "      <th></th>\n",
       "      <th>ub</th>\n",
       "      <th>lb</th>\n",
       "    </tr>\n",
       "    <tr>\n",
       "      <th>datetime</th>\n",
       "      <th></th>\n",
       "      <th></th>\n",
       "    </tr>\n",
       "  </thead>\n",
       "  <tbody>\n",
       "    <tr>\n",
       "      <th>2018-01-26</th>\n",
       "      <td>NaN</td>\n",
       "      <td>NaN</td>\n",
       "    </tr>\n",
       "    <tr>\n",
       "      <th>2018-01-27</th>\n",
       "      <td>1120.791557</td>\n",
       "      <td>-330.191557</td>\n",
       "    </tr>\n",
       "    <tr>\n",
       "      <th>2018-01-28</th>\n",
       "      <td>956.773991</td>\n",
       "      <td>-326.494835</td>\n",
       "    </tr>\n",
       "    <tr>\n",
       "      <th>2018-01-29</th>\n",
       "      <td>1406.405897</td>\n",
       "      <td>-492.401124</td>\n",
       "    </tr>\n",
       "    <tr>\n",
       "      <th>2018-01-30</th>\n",
       "      <td>1354.808245</td>\n",
       "      <td>-352.070116</td>\n",
       "    </tr>\n",
       "  </tbody>\n",
       "</table>\n",
       "</div>"
      ],
      "text/plain": [
       "                     ub          lb\n",
       "datetime                           \n",
       "2018-01-26          NaN         NaN\n",
       "2018-01-27  1120.791557 -330.191557\n",
       "2018-01-28   956.773991 -326.494835\n",
       "2018-01-29  1406.405897 -492.401124\n",
       "2018-01-30  1354.808245 -352.070116"
      ]
     },
     "execution_count": 59,
     "metadata": {},
     "output_type": "execute_result"
    }
   ],
   "source": [
    "# concatenate ub and lb together into one df, bb\n",
    "bb = pd.concat([ub, lb], axis=1)\n",
    "\n",
    "bb.columns = ['ub', 'lb']\n",
    "bb.head()"
   ]
  },
  {
   "cell_type": "code",
   "execution_count": 60,
   "id": "21b244ee",
   "metadata": {},
   "outputs": [
    {
     "data": {
      "text/html": [
       "<div>\n",
       "<style scoped>\n",
       "    .dataframe tbody tr th:only-of-type {\n",
       "        vertical-align: middle;\n",
       "    }\n",
       "\n",
       "    .dataframe tbody tr th {\n",
       "        vertical-align: top;\n",
       "    }\n",
       "\n",
       "    .dataframe thead th {\n",
       "        text-align: right;\n",
       "    }\n",
       "</style>\n",
       "<table border=\"1\" class=\"dataframe\">\n",
       "  <thead>\n",
       "    <tr style=\"text-align: right;\">\n",
       "      <th></th>\n",
       "      <th>pages</th>\n",
       "      <th>midband</th>\n",
       "      <th>ub</th>\n",
       "      <th>lb</th>\n",
       "    </tr>\n",
       "    <tr>\n",
       "      <th>datetime</th>\n",
       "      <th></th>\n",
       "      <th></th>\n",
       "      <th></th>\n",
       "      <th></th>\n",
       "    </tr>\n",
       "  </thead>\n",
       "  <tbody>\n",
       "    <tr>\n",
       "      <th>2018-01-26</th>\n",
       "      <td>572</td>\n",
       "      <td>572.000000</td>\n",
       "      <td>NaN</td>\n",
       "      <td>NaN</td>\n",
       "    </tr>\n",
       "    <tr>\n",
       "      <th>2018-01-27</th>\n",
       "      <td>230</td>\n",
       "      <td>395.300000</td>\n",
       "      <td>1120.791557</td>\n",
       "      <td>-330.191557</td>\n",
       "    </tr>\n",
       "    <tr>\n",
       "      <th>2018-01-28</th>\n",
       "      <td>170</td>\n",
       "      <td>315.139578</td>\n",
       "      <td>956.773991</td>\n",
       "      <td>-326.494835</td>\n",
       "    </tr>\n",
       "    <tr>\n",
       "      <th>2018-01-29</th>\n",
       "      <td>830</td>\n",
       "      <td>457.002386</td>\n",
       "      <td>1406.405897</td>\n",
       "      <td>-492.401124</td>\n",
       "    </tr>\n",
       "    <tr>\n",
       "      <th>2018-01-30</th>\n",
       "      <td>652</td>\n",
       "      <td>501.369064</td>\n",
       "      <td>1354.808245</td>\n",
       "      <td>-352.070116</td>\n",
       "    </tr>\n",
       "  </tbody>\n",
       "</table>\n",
       "</div>"
      ],
      "text/plain": [
       "            pages     midband           ub          lb\n",
       "datetime                                              \n",
       "2018-01-26    572  572.000000          NaN         NaN\n",
       "2018-01-27    230  395.300000  1120.791557 -330.191557\n",
       "2018-01-28    170  315.139578   956.773991 -326.494835\n",
       "2018-01-29    830  457.002386  1406.405897 -492.401124\n",
       "2018-01-30    652  501.369064  1354.808245 -352.070116"
      ]
     },
     "execution_count": 60,
     "metadata": {},
     "output_type": "execute_result"
    }
   ],
   "source": [
    "my_df = pd.concat([pages, midband, bb], axis=1)\n",
    "my_df.columns = ['pages', 'midband', 'ub', 'lb']\n",
    "my_df.head()"
   ]
  },
  {
   "cell_type": "code",
   "execution_count": 61,
   "id": "3a2b899a",
   "metadata": {},
   "outputs": [
    {
     "data": {
      "image/png": "[encoded data removed]",
      "text/plain": [
       "<Figure size 864x576 with 1 Axes>"
      ]
     },
     "metadata": {
      "needs_background": "light"
     },
     "output_type": "display_data"
    }
   ],
   "source": [
    "fig, ax = plt.subplots(figsize=(12,8))\n",
    "\n",
    "ax.plot(my_df.index, my_df.pages, label='Number of Pages')\n",
    "\n",
    "ax.plot(my_df.index, my_df.midband, label = '30-day EMA/midband')\n",
    "ax.plot(my_df.index, my_df.ub, label = 'Upper Band')\n",
    "ax.plot(my_df.index, my_df.lb, label = 'Lower Band')\n",
    "\n",
    "ax.legend(loc='best')\n",
    "ax.set_ylabel('Number of pages')\n",
    "\n",
    "plt.show()"
   ]
  },
  {
   "cell_type": "code",
   "execution_count": 62,
   "id": "c46d9f89",
   "metadata": {},
   "outputs": [
    {
     "data": {
      "text/plain": [
       "1131.0"
      ]
     },
     "execution_count": 62,
     "metadata": {},
     "output_type": "execute_result"
    }
   ],
   "source": [
    "# get the last measure of gb\n",
    "last_measure = my_df.iloc[-1].pages\n",
    "last_measure"
   ]
  },
  {
   "cell_type": "code",
   "execution_count": 63,
   "id": "35b5d98b",
   "metadata": {},
   "outputs": [
    {
     "data": {
      "text/plain": [
       "-777.340451135389"
      ]
     },
     "execution_count": 63,
     "metadata": {},
     "output_type": "execute_result"
    }
   ],
   "source": [
    "# get the lower band value on the last date\n",
    "last_lb = my_df.iloc[-1].lb\n",
    "last_lb"
   ]
  },
  {
   "cell_type": "code",
   "execution_count": 64,
   "id": "80eb25a7",
   "metadata": {},
   "outputs": [
    {
     "data": {
      "text/plain": [
       "3499.0943598250406"
      ]
     },
     "execution_count": 64,
     "metadata": {},
     "output_type": "execute_result"
    }
   ],
   "source": [
    "# get the upper band value on the last date\n",
    "last_ub = my_df.iloc[-1].ub\n",
    "last_ub"
   ]
  },
  {
   "cell_type": "code",
   "execution_count": 65,
   "id": "bcea1166",
   "metadata": {},
   "outputs": [
    {
     "name": "stdout",
     "output_type": "stream",
     "text": [
      "%b for last datapoint:  0.45\n"
     ]
    }
   ],
   "source": [
    "# compute %b\n",
    "last_pct_b = (last_measure - last_lb)/(last_ub - last_lb)\n",
    "\n",
    "print('%b for last datapoint: ', round(last_pct_b, 2))"
   ]
  },
  {
   "cell_type": "code",
   "execution_count": 66,
   "id": "fcbb6a9d",
   "metadata": {},
   "outputs": [
    {
     "data": {
      "text/html": [
       "<div>\n",
       "<style scoped>\n",
       "    .dataframe tbody tr th:only-of-type {\n",
       "        vertical-align: middle;\n",
       "    }\n",
       "\n",
       "    .dataframe tbody tr th {\n",
       "        vertical-align: top;\n",
       "    }\n",
       "\n",
       "    .dataframe thead th {\n",
       "        text-align: right;\n",
       "    }\n",
       "</style>\n",
       "<table border=\"1\" class=\"dataframe\">\n",
       "  <thead>\n",
       "    <tr style=\"text-align: right;\">\n",
       "      <th></th>\n",
       "      <th>pages</th>\n",
       "      <th>midband</th>\n",
       "      <th>ub</th>\n",
       "      <th>lb</th>\n",
       "    </tr>\n",
       "    <tr>\n",
       "      <th>datetime</th>\n",
       "      <th></th>\n",
       "      <th></th>\n",
       "      <th></th>\n",
       "      <th></th>\n",
       "    </tr>\n",
       "  </thead>\n",
       "  <tbody>\n",
       "    <tr>\n",
       "      <th>2021-04-19</th>\n",
       "      <td>2156</td>\n",
       "      <td>1338.574023</td>\n",
       "      <td>3569.147958</td>\n",
       "      <td>-891.999913</td>\n",
       "    </tr>\n",
       "    <tr>\n",
       "      <th>2021-04-20</th>\n",
       "      <td>1930</td>\n",
       "      <td>1376.730537</td>\n",
       "      <td>3579.231798</td>\n",
       "      <td>-825.770723</td>\n",
       "    </tr>\n",
       "    <tr>\n",
       "      <th>2021-04-21</th>\n",
       "      <td>1131</td>\n",
       "      <td>1360.876954</td>\n",
       "      <td>3499.094360</td>\n",
       "      <td>-777.340451</td>\n",
       "    </tr>\n",
       "  </tbody>\n",
       "</table>\n",
       "</div>"
      ],
      "text/plain": [
       "            pages      midband           ub          lb\n",
       "datetime                                               \n",
       "2021-04-19   2156  1338.574023  3569.147958 -891.999913\n",
       "2021-04-20   1930  1376.730537  3579.231798 -825.770723\n",
       "2021-04-21   1131  1360.876954  3499.094360 -777.340451"
      ]
     },
     "execution_count": 66,
     "metadata": {},
     "output_type": "execute_result"
    }
   ],
   "source": [
    "my_df.tail(3)"
   ]
  },
  {
   "cell_type": "code",
   "execution_count": 67,
   "id": "066390ad",
   "metadata": {},
   "outputs": [
    {
     "data": {
      "text/html": [
       "<div>\n",
       "<style scoped>\n",
       "    .dataframe tbody tr th:only-of-type {\n",
       "        vertical-align: middle;\n",
       "    }\n",
       "\n",
       "    .dataframe tbody tr th {\n",
       "        vertical-align: top;\n",
       "    }\n",
       "\n",
       "    .dataframe thead th {\n",
       "        text-align: right;\n",
       "    }\n",
       "</style>\n",
       "<table border=\"1\" class=\"dataframe\">\n",
       "  <thead>\n",
       "    <tr style=\"text-align: right;\">\n",
       "      <th></th>\n",
       "      <th>pages</th>\n",
       "      <th>midband</th>\n",
       "      <th>ub</th>\n",
       "      <th>lb</th>\n",
       "      <th>pct_b</th>\n",
       "    </tr>\n",
       "    <tr>\n",
       "      <th>datetime</th>\n",
       "      <th></th>\n",
       "      <th></th>\n",
       "      <th></th>\n",
       "      <th></th>\n",
       "      <th></th>\n",
       "    </tr>\n",
       "  </thead>\n",
       "  <tbody>\n",
       "    <tr>\n",
       "      <th>2018-01-26</th>\n",
       "      <td>572</td>\n",
       "      <td>572.000000</td>\n",
       "      <td>NaN</td>\n",
       "      <td>NaN</td>\n",
       "      <td>NaN</td>\n",
       "    </tr>\n",
       "    <tr>\n",
       "      <th>2018-01-27</th>\n",
       "      <td>230</td>\n",
       "      <td>395.300000</td>\n",
       "      <td>1120.791557</td>\n",
       "      <td>-330.191557</td>\n",
       "      <td>0.386077</td>\n",
       "    </tr>\n",
       "    <tr>\n",
       "      <th>2018-01-28</th>\n",
       "      <td>170</td>\n",
       "      <td>315.139578</td>\n",
       "      <td>956.773991</td>\n",
       "      <td>-326.494835</td>\n",
       "      <td>0.386899</td>\n",
       "    </tr>\n",
       "    <tr>\n",
       "      <th>2018-01-29</th>\n",
       "      <td>830</td>\n",
       "      <td>457.002386</td>\n",
       "      <td>1406.405897</td>\n",
       "      <td>-492.401124</td>\n",
       "      <td>0.696438</td>\n",
       "    </tr>\n",
       "    <tr>\n",
       "      <th>2018-01-30</th>\n",
       "      <td>652</td>\n",
       "      <td>501.369064</td>\n",
       "      <td>1354.808245</td>\n",
       "      <td>-352.070116</td>\n",
       "      <td>0.588249</td>\n",
       "    </tr>\n",
       "  </tbody>\n",
       "</table>\n",
       "</div>"
      ],
      "text/plain": [
       "            pages     midband           ub          lb     pct_b\n",
       "datetime                                                        \n",
       "2018-01-26    572  572.000000          NaN         NaN       NaN\n",
       "2018-01-27    230  395.300000  1120.791557 -330.191557  0.386077\n",
       "2018-01-28    170  315.139578   956.773991 -326.494835  0.386899\n",
       "2018-01-29    830  457.002386  1406.405897 -492.401124  0.696438\n",
       "2018-01-30    652  501.369064  1354.808245 -352.070116  0.588249"
      ]
     },
     "execution_count": 67,
     "metadata": {},
     "output_type": "execute_result"
    }
   ],
   "source": [
    "my_df['pct_b'] = (my_df['pages'] - my_df['lb'])/(my_df['ub'] - my_df['lb'])\n",
    "\n",
    "my_df.head()"
   ]
  },
  {
   "cell_type": "code",
   "execution_count": 68,
   "id": "d09988fd",
   "metadata": {},
   "outputs": [
    {
     "data": {
      "text/html": [
       "<div>\n",
       "<style scoped>\n",
       "    .dataframe tbody tr th:only-of-type {\n",
       "        vertical-align: middle;\n",
       "    }\n",
       "\n",
       "    .dataframe tbody tr th {\n",
       "        vertical-align: top;\n",
       "    }\n",
       "\n",
       "    .dataframe thead th {\n",
       "        text-align: right;\n",
       "    }\n",
       "</style>\n",
       "<table border=\"1\" class=\"dataframe\">\n",
       "  <thead>\n",
       "    <tr style=\"text-align: right;\">\n",
       "      <th></th>\n",
       "      <th>pages</th>\n",
       "      <th>midband</th>\n",
       "      <th>ub</th>\n",
       "      <th>lb</th>\n",
       "      <th>pct_b</th>\n",
       "    </tr>\n",
       "    <tr>\n",
       "      <th>datetime</th>\n",
       "      <th></th>\n",
       "      <th></th>\n",
       "      <th></th>\n",
       "      <th></th>\n",
       "      <th></th>\n",
       "    </tr>\n",
       "  </thead>\n",
       "  <tbody>\n",
       "  </tbody>\n",
       "</table>\n",
       "</div>"
      ],
      "text/plain": [
       "Empty DataFrame\n",
       "Columns: [pages, midband, ub, lb, pct_b]\n",
       "Index: []"
      ]
     },
     "execution_count": 68,
     "metadata": {},
     "output_type": "execute_result"
    }
   ],
   "source": [
    "my_df[my_df['pct_b']>1]"
   ]
  },
  {
   "cell_type": "code",
   "execution_count": 74,
   "id": "7de569a2",
   "metadata": {},
   "outputs": [],
   "source": [
    "def prep(df, user):\n",
    "    df = df[df.user_id == user]\n",
    "    df.datetime = pd.to_datetime(df.datetime)\n",
    "    df = df.set_index(df.datetime)\n",
    "    pages = df['path'].resample('d').count()\n",
    "    return pages"
   ]
  },
  {
   "cell_type": "code",
   "execution_count": 70,
   "id": "c6bbebca",
   "metadata": {},
   "outputs": [],
   "source": [
    "def compute_pct_b(pages, span, weight, user):\n",
    "    midband = pages.ewm(span=span).mean()\n",
    "    stdev = pages.ewm(span=span).std()\n",
    "    ub = midband + stdev*weight\n",
    "    lb = midband - stdev*weight\n",
    "    bb = pd.concat([ub, lb], axis=1)\n",
    "    my_df = pd.concat([pages, midband, bb], axis=1)\n",
    "    my_df.columns = ['pages', 'midband', 'ub', 'lb']\n",
    "    my_df['pct_b'] = (my_df['pages'] - my_df['lb'])/(my_df['ub'] - my_df['lb'])\n",
    "    my_df['user_id'] = user\n",
    "    return my_df"
   ]
  },
  {
   "cell_type": "code",
   "execution_count": 71,
   "id": "9849d11d",
   "metadata": {},
   "outputs": [],
   "source": [
    "def plt_bands(my_df, user):\n",
    "    fig, ax = plt.subplots(figsize=(12,8))\n",
    "    ax.plot(my_df.index, my_df.pages, label='Number of Pages, User: '+str(user))\n",
    "    ax.plot(my_df.index, my_df.midband, label = 'EMA/midband')\n",
    "    ax.plot(my_df.index, my_df.ub, label = 'Upper Band')\n",
    "    ax.plot(my_df.index, my_df.lb, label = 'Lower Band')\n",
    "    ax.legend(loc='best')\n",
    "    ax.set_ylabel('Number of Pages')\n",
    "    plt.show()"
   ]
  },
  {
   "cell_type": "code",
   "execution_count": 72,
   "id": "7ae9f904",
   "metadata": {},
   "outputs": [],
   "source": [
    "def find_anomalies(df, user, span, weight):\n",
    "    pages = prep(df, user)\n",
    "    my_df = compute_pct_b(pages, span, weight, user)\n",
    "    # plt_bands(my_df, user)\n",
    "    return my_df[my_df.pct_b>1]"
   ]
  },
  {
   "cell_type": "code",
   "execution_count": 75,
   "id": "ef0a0c61",
   "metadata": {},
   "outputs": [
    {
     "name": "stderr",
     "output_type": "stream",
     "text": [
      "/var/folders/5g/xrhpsnj56_v3scw9s4trbgxc0000gn/T/ipykernel_4221/3082406836.py:3: SettingWithCopyWarning: \n",
      "A value is trying to be set on a copy of a slice from a DataFrame.\n",
      "Try using .loc[row_indexer,col_indexer] = value instead\n",
      "\n",
      "See the caveats in the documentation: https://pandas.pydata.org/pandas-docs/stable/user_guide/indexing.html#returning-a-view-versus-a-copy\n",
      "  df.datetime = pd.to_datetime(df.datetime)\n",
      "/var/folders/5g/xrhpsnj56_v3scw9s4trbgxc0000gn/T/ipykernel_4221/3082406836.py:3: SettingWithCopyWarning: \n",
      "A value is trying to be set on a copy of a slice from a DataFrame.\n",
      "Try using .loc[row_indexer,col_indexer] = value instead\n",
      "\n",
      "See the caveats in the documentation: https://pandas.pydata.org/pandas-docs/stable/user_guide/indexing.html#returning-a-view-versus-a-copy\n",
      "  df.datetime = pd.to_datetime(df.datetime)\n"
     ]
    }
   ],
   "source": [
    "user = 1\n",
    "span = 30\n",
    "weight = 6\n",
    "user_df = find_anomalies(df, user, span, weight)\n",
    "\n",
    "anomalies = pd.DataFrame()\n",
    "user_df = find_anomalies(df, user, span, weight)\n",
    "anomalies = pd.concat([anomalies, user_df], axis=0)"
   ]
  },
  {
   "cell_type": "code",
   "execution_count": null,
   "id": "cf81a20a",
   "metadata": {},
   "outputs": [],
   "source": []
  }
 ],
 "metadata": {
  "kernelspec": {
   "display_name": "Python 3 (ipykernel)",
   "language": "python",
   "name": "python3"
  },
  "language_info": {
   "codemirror_mode": {
    "name": "ipython",
    "version": 3
   },
   "file_extension": ".py",
   "mimetype": "text/x-python",
   "name": "python",
   "nbconvert_exporter": "python",
   "pygments_lexer": "ipython3",
   "version": "3.9.12"
  }
 },
 "nbformat": 4,
 "nbformat_minor": 5
}
